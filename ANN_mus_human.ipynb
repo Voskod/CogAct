{
 "cells": [
  {
   "cell_type": "code",
   "execution_count": 1,
   "metadata": {
    "colab": {
     "base_uri": "https://localhost:8080/",
     "height": 63
    },
    "colab_type": "code",
    "id": "gnwiOnGyW5JK",
    "outputId": "629cce8e-fcb9-43ab-e253-2ddb8d0b4d5d"
   },
   "outputs": [],
   "source": [
    "import csv\n",
    "import tensorflow as tf\n",
    "import numpy as np\n",
    "import os\n",
    "import re\n",
    "import random\n",
    "import json\n",
    "from tensorflow.keras.preprocessing.text import Tokenizer\n",
    "from tensorflow.keras.preprocessing.sequence import pad_sequences"
   ]
  },
  {
   "cell_type": "code",
   "execution_count": 2,
   "metadata": {
    "colab": {
     "base_uri": "https://localhost:8080/",
     "height": 1000
    },
    "colab_type": "code",
    "id": "TAnFoKNQSFf9",
    "outputId": "8adcaad8-4b39-45f9-a865-fffeb8d36797",
    "scrolled": true
   },
   "outputs": [],
   "source": [
    "# !unzip /data.zip -d /tmp/"
   ]
  },
  {
   "cell_type": "markdown",
   "metadata": {
    "colab_type": "text",
    "id": "QkWQI396SRb7"
   },
   "source": []
  },
  {
   "cell_type": "code",
   "execution_count": 3,
   "metadata": {
    "colab": {},
    "colab_type": "code",
    "id": "EYo6A4v5ZABQ"
   },
   "outputs": [],
   "source": [
    "vocab_size = 25000 #25000 default\n",
    "embedding_dim = 1\n",
    "max_length = 20 #num of words; sentences padded with 0s if smaller\n",
    "trunc_type='post' #truncate at the end\n",
    "padding_type='post' #padding at the end\n",
    "oov_tok = \"<OOV>\"\n",
    "training_portion = .99  #80% training 20 testing"
   ]
  },
  {
   "cell_type": "markdown",
   "metadata": {},
   "source": [
    "# Train text and music as text (by measure end ';'  )"
   ]
  },
  {
   "cell_type": "code",
   "execution_count": 5,
   "metadata": {},
   "outputs": [],
   "source": [
    "sep_sent = '\\.|!|\\?|\\.\\.\\.|…|;' #separate by punctuation or num of words\n",
    "sep_phrases = '\\.|!|\\?|\\.\\.\\.|…|,|:|;|-|—|\"|\\'|&'\n",
    "sep_number = 20"
   ]
  },
  {
   "cell_type": "code",
   "execution_count": 6,
   "metadata": {},
   "outputs": [],
   "source": [
    "def get_sentences(text, separator, max_len=120):\n",
    "    sentences = []\n",
    "    if isinstance(separator, int):\n",
    "        #words = [*filter(lambda word: word not in stopwords, re.split('[^a-zа-я]+', text.lower()))] #uncomment to sanitise text\n",
    "        words = re.split('[^a-zа-я0-9]+', text.lower())\n",
    "        for i in range(0, len(words), separator):\n",
    "            sentences.append(' '.join(words[i:i + separator]))\n",
    "    else:\n",
    "        for sent in re.split(separator, text.lower()):\n",
    "            sent=list(re.split('[^a-zа-я0-9]+', sent ))\n",
    "            if len(sent)<=max_len:\n",
    "                sentences.append(sent)\n",
    "    return sentences"
   ]
  },
  {
   "cell_type": "code",
   "execution_count": 7,
   "metadata": {},
   "outputs": [],
   "source": [
    "def walk_fs(folder):\n",
    "    for label in os.listdir(folder):\n",
    "        p = os.path.join(folder, label)\n",
    "        if os.path.isdir(p):\n",
    "            for file in os.listdir(p):\n",
    "                file_path = os.path.join(p, file)\n",
    "                with open(file_path, 'r',  encoding='utf-8', errors='ignore') as f:\n",
    "                    yield label, file, f.read()"
   ]
  },
  {
   "cell_type": "code",
   "execution_count": 8,
   "metadata": {},
   "outputs": [],
   "source": [
    "def get_labels_and_sentences(folder, get_patterns):\n",
    "    labels = []\n",
    "    sentences = []\n",
    "\n",
    "    for label, _, text in walk_fs(folder):\n",
    "        for sentence in get_patterns(text):\n",
    "            labels.append(label)\n",
    "            sentences.append(sentence)\n",
    "    ls_list = list(zip(labels, sentences))\n",
    "    random.shuffle(ls_list)\n",
    "    return zip(*ls_list)"
   ]
  },
  {
   "cell_type": "code",
   "execution_count": 9,
   "metadata": {},
   "outputs": [],
   "source": [
    "# Music\n",
    "separator = sep_sent #separate by measures or number of chords\n",
    "func = lambda text: get_sentences(text, separator, max_len=20)\n",
    "train_labels, train_sentences = get_labels_and_sentences('text_train', func)\n",
    "predict_labels, predict_sentences = get_labels_and_sentences('text_train', func)"
   ]
  },
  {
   "cell_type": "markdown",
   "metadata": {},
   "source": [
    "# Train text and music as JSON (split by number or by measure)"
   ]
  },
  {
   "cell_type": "code",
   "execution_count": 4,
   "metadata": {
    "colab": {},
    "colab_type": "code",
    "id": "HGenom2WfIO_"
   },
   "outputs": [],
   "source": [
    "def get_music_seqs(text, max_len):\n",
    "    chords = []\n",
    "    for measure in json.loads(text):\n",
    "        chords.extend(measure)\n",
    "    parts = []\n",
    "    for i in range(0, len(chords), max_len):\n",
    "        parts.append(' '.join(chords[i:i + max_len]))\n",
    "    print('parts=', parts)\n",
    "    return parts"
   ]
  },
  {
   "cell_type": "code",
   "execution_count": 5,
   "metadata": {
    "colab": {},
    "colab_type": "code",
    "id": "9_6VzWD1nbNC"
   },
   "outputs": [],
   "source": [
    "def walk_fs(folder):\n",
    "    for label in os.listdir(folder):\n",
    "        p = os.path.join(folder, label)\n",
    "        if os.path.isdir(p):\n",
    "            for file in os.listdir(p):\n",
    "                file_path = os.path.join(p, file)\n",
    "                with open(file_path, 'r',  encoding='utf-8', errors='ignore') as f:\n",
    "                    yield label, file, f.read()"
   ]
  },
  {
   "cell_type": "code",
   "execution_count": 6,
   "metadata": {
    "colab": {},
    "colab_type": "code",
    "id": "lY9wwP9gVyEr"
   },
   "outputs": [],
   "source": [
    "def get_labels_and_sentences(folder, get_patterns):\n",
    "    labels = []\n",
    "    sentences = []\n",
    "\n",
    "    for label, file, text in walk_fs(folder):\n",
    "        print('label=',label)\n",
    "        print(\"file=\",file)\n",
    "        print('text=',text)\n",
    "        for sentence in get_patterns(text):\n",
    "            labels.append(label)\n",
    "            sentences.append(sentence)\n",
    "    ls_list = list(zip(labels, sentences))\n",
    "    print('ls_list=',ls_list)\n",
    "    random.shuffle(ls_list)\n",
    "    print('ls_list_rand=',ls_list)\n",
    "    return zip(*ls_list)"
   ]
  },
  {
   "cell_type": "code",
   "execution_count": 37,
   "metadata": {},
   "outputs": [],
   "source": [
    "# music\n",
    "func = lambda text: get_sentences(text, max_len=120)\n",
    "train_labels, train_sentences = get_labels_and_sentences('music/train_txt', func)\n",
    "predict_labels, predict_sentences = get_labels_and_sentences('music/train_txt', func)"
   ]
  },
  {
   "cell_type": "code",
   "execution_count": 10,
   "metadata": {},
   "outputs": [],
   "source": [
    "# music\n",
    "func = lambda text: get_sentences(text, max_len=100)\n",
    "train_labels, train_sentences = get_labels_and_sentences('json_train', func)\n",
    "predict_labels, predict_sentences = get_labels_and_sentences('json_train', func)"
   ]
  },
  {
   "cell_type": "code",
   "execution_count": 13,
   "metadata": {},
   "outputs": [],
   "source": [
    "\"\"\"MUSIC JSON by measure\"\"\" #split JSON by measure\n",
    "train_labels = []\n",
    "train_sentences = []\n",
    "\n",
    "folder = 'json_train'\n",
    "for label in os.listdir(folder):\n",
    "    p = os.path.join(folder, label)\n",
    "    if os.path.isdir(p):\n",
    "        for file in os.listdir(p):\n",
    "            file = os.path.join(p, file)\n",
    "            with open(file, 'r',  encoding='utf-8', errors='ignore') as f:\n",
    "                for sentence in json.loads(f.read()):\n",
    "                    train_labels.append(label)\n",
    "                    train_sentences.append(sentence)\n",
    "####################                    \n",
    "train_zip = zip(train_labels, train_sentences)  # see end page for refresh on zip/shuffle\n",
    "train_zip_list = list(train_zip)\n",
    "random.shuffle(train_zip_list) #uncomment to RANDOM shuffle data\n",
    "train_labels_tuple, train_sentences_tuple = zip(*train_zip_list)\n",
    "train_labels = list(train_labels_tuple)\n",
    "train_sentences = list(train_sentences_tuple)\n",
    "predict_sentences = train_sentences\n",
    "predict_labels = train_labels\n",
    "###################################\n",
    "# print(\"train_zip_list=\", train_zip_list)\n",
    "\n",
    "training_portion = 0.99\n",
    "train_size = int(len(train_sentences) * training_portion)\n",
    "\n",
    "validation_sentences = train_sentences[train_size:]\n",
    "validation_labels = train_labels[train_size:]\n",
    "\n",
    "train_sentences = train_sentences[:train_size]\n",
    "train_labels = train_labels[:train_size]"
   ]
  },
  {
   "cell_type": "code",
   "execution_count": null,
   "metadata": {},
   "outputs": [],
   "source": []
  },
  {
   "cell_type": "markdown",
   "metadata": {},
   "source": [
    "# Tokenisation"
   ]
  },
  {
   "cell_type": "code",
   "execution_count": 10,
   "metadata": {
    "colab": {
     "base_uri": "https://localhost:8080/",
     "height": 309
    },
    "colab_type": "code",
    "id": "ULzA8xhwZI22",
    "outputId": "14db787e-42c7-43d6-ad53-515ccfd3d8e6"
   },
   "outputs": [
    {
     "name": "stdout",
     "output_type": "stream",
     "text": [
      "(20,)\n",
      "<class 'numpy.ndarray'>\n",
      "11\n",
      "20\n",
      "train_sequences[0]= [23868, 5, 4, 16, 2701, 11, 18, 14829, 19, 10, 49]\n",
      "\n",
      "\n",
      "train_padded[0]= [23868     5     4    16  2701    11    18 14829    19    10    49     0\n",
      "     0     0     0     0     0     0     0     0]\n",
      "6\n",
      "20\n",
      "8\n",
      "20\n"
     ]
    }
   ],
   "source": [
    "tokenizer = Tokenizer(num_words = vocab_size, oov_token=oov_tok)\n",
    "tokenizer.fit_on_texts(train_sentences)\n",
    "word_index = tokenizer.word_index\n",
    "#print(word_index)\n",
    "train_sequences = tokenizer.texts_to_sequences(train_sentences)\n",
    "train_padded = pad_sequences(train_sequences, padding=padding_type, maxlen=max_length)\n",
    "\n",
    "print(train_padded[0].shape)\n",
    "print(type(train_padded[0]))\n",
    "btext= train_padded[0] #for testing prediction below\n",
    "print(len(train_sequences[0]))\n",
    "print(len(train_padded[0]))\n",
    "print('train_sequences[0]=', train_sequences[0])\n",
    "print('\\n')\n",
    "print('train_padded[0]=', train_padded[0])\n",
    "\n",
    "print(len(train_sequences[1]))\n",
    "print(len(train_padded[1]))\n",
    "\n",
    "print(len(train_sequences[10]))\n",
    "print(len(train_padded[10]))"
   ]
  },
  {
   "cell_type": "code",
   "execution_count": 11,
   "metadata": {
    "colab": {
     "base_uri": "https://localhost:8080/",
     "height": 51
    },
    "colab_type": "code",
    "id": "c8PeFWzPZLW_",
    "outputId": "d75ba159-5536-46ab-b1dd-2b1c0d396d16"
   },
   "outputs": [
    {
     "name": "stdout",
     "output_type": "stream",
     "text": [
      "68294\n",
      "(68294, 20)\n"
     ]
    }
   ],
   "source": [
    "validation_sequences = tokenizer.texts_to_sequences(predict_sentences)\n",
    "validation_padded = pad_sequences(validation_sequences, padding=padding_type, maxlen=max_length)\n",
    "\n",
    "print(len(validation_sequences))\n",
    "print(validation_padded.shape)\n"
   ]
  },
  {
   "cell_type": "code",
   "execution_count": 12,
   "metadata": {
    "colab": {
     "base_uri": "https://localhost:8080/",
     "height": 187
    },
    "colab_type": "code",
    "id": "XkWiQ_FKZNp2",
    "outputId": "6c344524-4fdf-4654-8797-d035aeb62d78"
   },
   "outputs": [
    {
     "name": "stdout",
     "output_type": "stream",
     "text": [
      "{'beethoven': 1, 'mozart': 2, 'schubert': 3, 'bach': 4}\n",
      "4\n",
      "[1]\n",
      "[4]\n",
      "[3]\n",
      "(68294, 1)\n",
      "[3]\n",
      "[2]\n",
      "[2]\n",
      "(68294, 1)\n"
     ]
    }
   ],
   "source": [
    "label_tokenizer = Tokenizer()\n",
    "label_tokenizer.fit_on_texts(train_labels + predict_labels)\n",
    "label_index = label_tokenizer.word_index\n",
    "print(label_index)\n",
    "print(len(label_index))\n",
    "training_label_seq = np.array(label_tokenizer.texts_to_sequences(train_labels))\n",
    "validation_label_seq = np.array(label_tokenizer.texts_to_sequences(predict_labels))\n",
    "\n",
    "print(training_label_seq[0])\n",
    "print(training_label_seq[1])\n",
    "print(training_label_seq[10])\n",
    "print(training_label_seq.shape)\n",
    "\n",
    "print(validation_label_seq[0])\n",
    "print(validation_label_seq[1])\n",
    "print(validation_label_seq[2])\n",
    "print(validation_label_seq.shape)\n"
   ]
  },
  {
   "cell_type": "markdown",
   "metadata": {},
   "source": [
    "## Arch"
   ]
  },
  {
   "cell_type": "code",
   "execution_count": 13,
   "metadata": {},
   "outputs": [],
   "source": [
    "from tensorflow.keras.models import Sequential\n",
    "from tensorflow.keras.layers import Dense,\\\n",
    "Dropout, Activation, Flatten, Conv1D, MaxPooling1D,\\\n",
    "GlobalAveragePooling1D, Embedding, RNN, SimpleRNN"
   ]
  },
  {
   "cell_type": "code",
   "execution_count": 14,
   "metadata": {},
   "outputs": [
    {
     "name": "stdout",
     "output_type": "stream",
     "text": [
      "Model: \"sequential\"\n",
      "_________________________________________________________________\n",
      "Layer (type)                 Output Shape              Param #   \n",
      "=================================================================\n",
      "embedding (Embedding)        (None, 20, 1)             25000     \n",
      "_________________________________________________________________\n",
      "simple_rnn (SimpleRNN)       (None, 20, 1048)          1100400   \n",
      "_________________________________________________________________\n",
      "flatten (Flatten)            (None, 20960)             0         \n",
      "_________________________________________________________________\n",
      "dense (Dense)                (None, 100)               2096100   \n",
      "_________________________________________________________________\n",
      "dense_1 (Dense)              (None, 5)                 505       \n",
      "=================================================================\n",
      "Total params: 3,222,005\n",
      "Trainable params: 3,222,005\n",
      "Non-trainable params: 0\n",
      "_________________________________________________________________\n"
     ]
    }
   ],
   "source": [
    "#RNN #the model used in experiments\n",
    "num_of_output_neurons = len(label_index)+1 #n+1 classes!!!!!!!!!!!!!!!!\n",
    "\n",
    "model = Sequential()\n",
    "# model.add(tensorflow.keras.Input(shape=(250, 250, 3)))\n",
    "model.add(Embedding(vocab_size, embedding_dim, mask_zero=True, input_length=max_length))\n",
    "# model.add(GlobalAveragePooling1D())\n",
    "model.add(SimpleRNN( 1048, activation='relu',return_sequences=True))\n",
    "model.add(Flatten())\n",
    "# model.add(tf.keras.layers.GlobalAveragePooling1D())\n",
    "model.add(Dense(100, activation='relu'))\n",
    "model.add(Dense(num_of_output_neurons, activation='softmax'))\n",
    "model.compile(loss='sparse_categorical_crossentropy',optimizer='adam',metrics=['accuracy'])\n",
    "model.summary()"
   ]
  },
  {
   "cell_type": "markdown",
   "metadata": {},
   "source": [
    "# Start training"
   ]
  },
  {
   "cell_type": "code",
   "execution_count": 15,
   "metadata": {
    "colab": {
     "base_uri": "https://localhost:8080/",
     "height": 1000
    },
    "colab_type": "code",
    "id": "XsfdxySKZSXu",
    "outputId": "958aba36-3ef4-496e-f32b-0f156c46c815",
    "scrolled": true
   },
   "outputs": [
    {
     "name": "stdout",
     "output_type": "stream",
     "text": [
      "Train on 68294 samples, validate on 68294 samples\n",
      "Epoch 1/20\n",
      "68294/68294 - 32s - loss: 1.0776 - accuracy: 0.5440 - val_loss: 0.9139 - val_accuracy: 0.6273\n",
      "Epoch 2/20\n",
      "68294/68294 - 30s - loss: 0.8609 - accuracy: 0.6594 - val_loss: 0.7299 - val_accuracy: 0.7269\n",
      "Epoch 3/20\n",
      "68294/68294 - 30s - loss: 0.7374 - accuracy: 0.7160 - val_loss: 0.6568 - val_accuracy: 0.7520\n",
      "Epoch 4/20\n",
      "68294/68294 - 30s - loss: 0.6701 - accuracy: 0.7444 - val_loss: 0.5992 - val_accuracy: 0.7739\n",
      "Epoch 5/20\n",
      "68294/68294 - 30s - loss: 0.6304 - accuracy: 0.7585 - val_loss: 0.5781 - val_accuracy: 0.7804\n",
      "Epoch 6/20\n",
      "68294/68294 - 30s - loss: 0.5985 - accuracy: 0.7712 - val_loss: 0.5539 - val_accuracy: 0.7892\n",
      "Epoch 7/20\n",
      "68294/68294 - 30s - loss: 0.5884 - accuracy: 0.7775 - val_loss: 0.5179 - val_accuracy: 0.8048\n",
      "Epoch 8/20\n",
      "68294/68294 - 30s - loss: 0.5536 - accuracy: 0.7871 - val_loss: 0.5027 - val_accuracy: 0.8090\n",
      "Epoch 9/20\n",
      "68294/68294 - 30s - loss: 0.5391 - accuracy: 0.7937 - val_loss: 0.4919 - val_accuracy: 0.8124\n",
      "Epoch 10/20\n",
      "68294/68294 - 31s - loss: 0.5169 - accuracy: 0.8003 - val_loss: 0.4656 - val_accuracy: 0.8212\n",
      "Epoch 11/20\n",
      "68294/68294 - 30s - loss: 0.5008 - accuracy: 0.8077 - val_loss: 0.4558 - val_accuracy: 0.8261\n",
      "Epoch 12/20\n",
      "68294/68294 - 30s - loss: 0.4867 - accuracy: 0.8118 - val_loss: 0.4591 - val_accuracy: 0.8238\n",
      "Epoch 13/20\n",
      "68294/68294 - 30s - loss: 0.4756 - accuracy: 0.8164 - val_loss: 0.4295 - val_accuracy: 0.8366\n",
      "Epoch 14/20\n",
      "68294/68294 - 30s - loss: 0.4624 - accuracy: 0.8224 - val_loss: 0.4338 - val_accuracy: 0.8327\n",
      "Epoch 15/20\n",
      "68294/68294 - 30s - loss: 0.4484 - accuracy: 0.8277 - val_loss: 0.4056 - val_accuracy: 0.8439\n",
      "Epoch 16/20\n",
      "68294/68294 - 30s - loss: 0.4383 - accuracy: 0.8306 - val_loss: 0.3977 - val_accuracy: 0.8484\n",
      "Epoch 17/20\n",
      "68294/68294 - 31s - loss: 0.4296 - accuracy: 0.8344 - val_loss: 0.3875 - val_accuracy: 0.8529\n",
      "Epoch 18/20\n",
      "68294/68294 - 31s - loss: 0.4147 - accuracy: 0.8393 - val_loss: 0.3896 - val_accuracy: 0.8497\n",
      "Epoch 19/20\n",
      "68294/68294 - 31s - loss: 0.4151 - accuracy: 0.8410 - val_loss: 0.3833 - val_accuracy: 0.8525\n",
      "Epoch 20/20\n",
      "68294/68294 - 30s - loss: 0.4021 - accuracy: 0.8438 - val_loss: 0.3715 - val_accuracy: 0.8580\n"
     ]
    }
   ],
   "source": [
    "num_epochs = 20\n",
    "history = model.fit(train_padded, training_label_seq, epochs=num_epochs, validation_data=(validation_padded, validation_label_seq), verbose=2)"
   ]
  },
  {
   "cell_type": "code",
   "execution_count": 19,
   "metadata": {
    "colab": {
     "base_uri": "https://localhost:8080/",
     "height": 333
    },
    "colab_type": "code",
    "id": "dQ0BX2apXS9u",
    "outputId": "701bb577-e431-4ae1-f023-91e3e20b150b",
    "scrolled": true
   },
   "outputs": [
    {
     "data": {
      "image/png": "[encoded data removed]",
      "text/plain": [
       "<Figure size 432x288 with 1 Axes>"
      ]
     },
     "metadata": {
      "needs_background": "light"
     },
     "output_type": "display_data"
    },
    {
     "data": {
      "image/png": "[encoded data removed]",
      "text/plain": [
       "<Figure size 432x288 with 1 Axes>"
      ]
     },
     "metadata": {
      "needs_background": "light"
     },
     "output_type": "display_data"
    }
   ],
   "source": [
    "import matplotlib.pyplot as plt\n",
    "def plot_graphs(history, string):\n",
    "  plt.plot(history.history[string])\n",
    "  plt.plot(history.history['val_'+string])\n",
    "  plt.xlabel(\"Epochs\")\n",
    "  plt.ylabel(string)\n",
    "  plt.legend([string, 'val_'+string])\n",
    "  plt.show()\n",
    "  \n",
    "plot_graphs(history, \"accuracy\")\n",
    "plot_graphs(history, \"loss\")"
   ]
  },
  {
   "cell_type": "code",
   "execution_count": 41,
   "metadata": {
    "colab": {},
    "colab_type": "code",
    "id": "w7Xc-uWxXhML"
   },
   "outputs": [],
   "source": [
    "\"\"\"Text decoder\"\"\"\n",
    "reverse_word_index = dict([(value, key) for (key, value) in word_index.items()])\n",
    "\n",
    "def decode_sentence(text):\n",
    "    return ' '.join([reverse_word_index.get(i, '?') for i in text])\n"
   ]
  },
  {
   "cell_type": "code",
   "execution_count": 146,
   "metadata": {
    "colab": {
     "base_uri": "https://localhost:8080/",
     "height": 214
    },
    "colab_type": "code",
    "id": "v8olLGcFRh0V",
    "outputId": "d2f86a69-cd49-45ea-a22c-5c56dd161515"
   },
   "outputs": [
    {
     "name": "stdout",
     "output_type": "stream",
     "text": [
      "<class 'numpy.ndarray'>\n",
      "[4368   35   31    0    0    0    0    0    0    0    0    0    0    0\n",
      "    0    0    0    0    0    0    0    0    0    0    0    0    0    0\n",
      "    0    0    0    0    0    0    0    0    0    0    0    0    0    0\n",
      "    0    0    0    0    0    0    0    0    0    0    0    0    0    0\n",
      "    0    0    0    0    0    0    0    0    0    0    0    0    0    0\n",
      "    0    0    0    0    0    0    0    0    0    0    0    0    0    0\n",
      "    0    0    0    0    0    0    0    0    0    0    0    0    0    0\n",
      "    0    0    0    0    0    0    0    0    0    0    0    0    0    0\n",
      "    0    0    0    0    0    0    0    0    0    0    0    0    0    0\n",
      "    0    0    0    0    0    0    0    0    0    0    0    0    0    0\n",
      "    0    0    0    0    0    0    0    0    0    0    0    0    0    0\n",
      "    0    0    0    0    0    0    0    0    0    0    0    0    0    0\n",
      "    0    0    0    0    0    0    0    0    0    0    0    0    0    0\n",
      "    0    0    0    0    0    0    0    0    0    0    0    0    0    0\n",
      "    0    0    0    0]\n",
      "(200,)\n",
      "apprehend they at ? ? ? ? ? ? ? ? ? ? ? ? ? ? ? ? ? ? ? ? ? ? ? ? ? ? ? ? ? ? ? ? ? ? ? ? ? ? ? ? ? ? ? ? ? ? ? ? ? ? ? ? ? ? ? ? ? ? ? ? ? ? ? ? ? ? ? ? ? ? ? ? ? ? ? ? ? ? ? ? ? ? ? ? ? ? ? ? ? ? ? ? ? ? ? ? ? ? ? ? ? ? ? ? ? ? ? ? ? ? ? ? ? ? ? ? ? ? ? ? ? ? ? ? ? ? ? ? ? ? ? ? ? ? ? ? ? ? ? ? ? ? ? ? ? ? ? ? ? ? ? ? ? ? ? ? ? ? ? ? ? ? ? ? ? ? ? ? ? ? ? ? ? ? ? ? ? ? ? ? ? ? ? ? ? ? ? ? ? ? ? ? ? ? ? ? ?\n"
     ]
    }
   ],
   "source": [
    "#btext is taken from Tokenizer code above, it's a coded text passage\n",
    "print(type(btext))\n",
    "print(btext)\n",
    "print(btext.shape)\n",
    "print(decode_sentence(btext))"
   ]
  },
  {
   "cell_type": "markdown",
   "metadata": {
    "colab_type": "text",
    "id": "8_QR0ukKzgPX"
   },
   "source": [
    "## Prediction"
   ]
  },
  {
   "cell_type": "code",
   "execution_count": 16,
   "metadata": {
    "colab": {},
    "colab_type": "code",
    "id": "6EURjge4zgPY"
   },
   "outputs": [],
   "source": [
    "def get_attention_words(text, max_len):\n",
    "    all_words = re.split('\\W+', text)\n",
    "    result = []\n",
    "    for i in range(0, len(all_words), max_len):\n",
    "        result.append(all_words[i:i + max_len])\n",
    "    return result\n",
    "\n",
    "def walk_dir(folder):\n",
    "    result = []\n",
    "    for label in os.listdir(folder):\n",
    "        p = os.path.join(folder, label)\n",
    "        if os.path.isdir(p):\n",
    "            for filename in os.listdir(p):\n",
    "                file = os.path.join(p, filename)\n",
    "                with open(file, 'r',  encoding='utf-8', errors='ignore') as f:\n",
    "                    result.append((label, filename, f.read()))\n",
    "    return result"
   ]
  },
  {
   "cell_type": "code",
   "execution_count": 18,
   "metadata": {
    "colab": {},
    "colab_type": "code",
    "id": "yAsgbBATzgPb"
   },
   "outputs": [],
   "source": [
    "def get_scores(predictions):\n",
    "    scores = {}\n",
    "    for prediction in predictions:\n",
    "        winner_idx = np.argmax(prediction)\n",
    "        scores[winner_idx] = scores.get(winner_idx, 0) + 1\n",
    "    return scores"
   ]
  },
  {
   "cell_type": "markdown",
   "metadata": {},
   "source": [
    "## CSV writer"
   ]
  },
  {
   "cell_type": "code",
   "execution_count": 19,
   "metadata": {},
   "outputs": [],
   "source": [
    "def write_csv_from_dicts(csv_file, lines):\n",
    "    with open(csv_file, 'w', encoding='utf-8', newline='') as f:\n",
    "        writer = csv.DictWriter(f, delimiter=';', fieldnames=lines[0])\n",
    "        writer.writeheader()\n",
    "        for line in lines:\n",
    "            writer.writerow(line)"
   ]
  },
  {
   "cell_type": "code",
   "execution_count": 20,
   "metadata": {},
   "outputs": [],
   "source": [
    "def get2top_preds(scores_dict): #take a lebels with scores dict and output a list with 2 top pairs, other pairs' scores=0\n",
    "    scores_list = [item for item in scores_dict.items()]\n",
    "#     print(scores_list)\n",
    "    scores_list2 = sorted(scores_list, key=lambda x: -x[1]) #sort scores list by the second item in pair (score), start form largest\n",
    "#     print(scores_list2)\n",
    "\n",
    "    total_top2 = scores_list2[0][1] + scores_list2[1][1]\n",
    "\n",
    "    top2_dict = scores_dict\n",
    "    for i in range(len(scores_list2)):\n",
    "        if i < 2:\n",
    "            top2_dict[scores_list2[i][0]] = np.around( scores_list2[i][1] / total_top2, decimals = 1) #normalise by 2 top scores\n",
    "        else:\n",
    "            top2_dict[scores_list2[i][0]] = 0\n",
    "    top2_list = [item for item in top2_dict.items()]\n",
    "    top2_list2 = sorted(top2_list, key=lambda x: -x[1])\n",
    "    print('top2_list2=', top2_list2)\n",
    "    top2dict = {lbl:prob for lbl, prob in top2_list2}\n",
    "    return top2dict#top2_list2"
   ]
  },
  {
   "cell_type": "code",
   "execution_count": 21,
   "metadata": {
    "scrolled": true
   },
   "outputs": [
    {
     "name": "stdout",
     "output_type": "stream",
     "text": [
      "scores= {4: 13, 1: 5, 2: 4}\n",
      "names= {1: 'beethoven', 2: 'mozart', 3: 'schubert', 4: 'bach'}\n",
      "scores_with_names {'bach': 13, 'beethoven': 5, 'mozart': 4}\n",
      "scores_normalised1= {'beethoven': 0, 'mozart': 0, 'schubert': 0, 'bach': 0}\n",
      "top2_list2= [('bach', 0.7), ('beethoven', 0.3), ('mozart', 0), ('schubert', 0)]\n",
      "scores_normalised= {'bach': 0.7, 'beethoven': 0.3, 'mozart': 0, 'schubert': 0}\n",
      "scores_normalised.items()= dict_items([('bach', 0.7), ('beethoven', 0.3), ('mozart', 0), ('schubert', 0)])\n",
      "bach Bwv0525 Sonate en trio n1_39-100sec\n",
      "bach -> 0.7\n",
      "beethoven -> 0.3\n",
      "mozart -> 0\n",
      "schubert -> 0\n",
      "CORRECT\n",
      "\n",
      "scores= {4: 16, 1: 7, 3: 2, 2: 2}\n",
      "names= {1: 'beethoven', 2: 'mozart', 3: 'schubert', 4: 'bach'}\n",
      "scores_with_names {'bach': 16, 'beethoven': 7, 'schubert': 2, 'mozart': 2}\n",
      "scores_normalised1= {'beethoven': 0, 'mozart': 0, 'schubert': 0, 'bach': 0}\n",
      "top2_list2= [('bach', 0.7), ('beethoven', 0.3), ('mozart', 0), ('schubert', 0)]\n",
      "scores_normalised= {'bach': 0.7, 'beethoven': 0.3, 'mozart': 0, 'schubert': 0}\n",
      "scores_normalised.items()= dict_items([('bach', 0.7), ('beethoven', 0.3), ('mozart', 0), ('schubert', 0)])\n",
      "bach Bwv0526 Sonate en trio n2_39-100sec\n",
      "bach -> 0.7\n",
      "beethoven -> 0.3\n",
      "mozart -> 0\n",
      "schubert -> 0\n",
      "CORRECT\n",
      "\n",
      "scores= {4: 10, 2: 2, 1: 2}\n",
      "names= {1: 'beethoven', 2: 'mozart', 3: 'schubert', 4: 'bach'}\n",
      "scores_with_names {'bach': 10, 'mozart': 2, 'beethoven': 2}\n",
      "scores_normalised1= {'beethoven': 0, 'mozart': 0, 'schubert': 0, 'bach': 0}\n",
      "top2_list2= [('bach', 0.8), ('beethoven', 0.2), ('mozart', 0), ('schubert', 0)]\n",
      "scores_normalised= {'bach': 0.8, 'beethoven': 0.2, 'mozart': 0, 'schubert': 0}\n",
      "scores_normalised.items()= dict_items([('bach', 0.8), ('beethoven', 0.2), ('mozart', 0), ('schubert', 0)])\n",
      "bach Bwv0527 Sonate en trio n3_39-100sec\n",
      "bach -> 0.8\n",
      "beethoven -> 0.2\n",
      "mozart -> 0\n",
      "schubert -> 0\n",
      "CORRECT\n",
      "\n",
      "scores= {1: 3, 4: 12, 2: 6}\n",
      "names= {1: 'beethoven', 2: 'mozart', 3: 'schubert', 4: 'bach'}\n",
      "scores_with_names {'beethoven': 3, 'bach': 12, 'mozart': 6}\n",
      "scores_normalised1= {'beethoven': 0, 'mozart': 0, 'schubert': 0, 'bach': 0}\n",
      "top2_list2= [('bach', 0.7), ('mozart', 0.3), ('beethoven', 0), ('schubert', 0)]\n",
      "scores_normalised= {'bach': 0.7, 'mozart': 0.3, 'beethoven': 0, 'schubert': 0}\n",
      "scores_normalised.items()= dict_items([('bach', 0.7), ('mozart', 0.3), ('beethoven', 0), ('schubert', 0)])\n",
      "bach Bwv0528 Sonate en trio n4_39-100sec\n",
      "bach -> 0.7\n",
      "mozart -> 0.3\n",
      "beethoven -> 0\n",
      "schubert -> 0\n",
      "CORRECT\n",
      "\n",
      "scores= {1: 6, 2: 3, 4: 11}\n",
      "names= {1: 'beethoven', 2: 'mozart', 3: 'schubert', 4: 'bach'}\n",
      "scores_with_names {'beethoven': 6, 'mozart': 3, 'bach': 11}\n",
      "scores_normalised1= {'beethoven': 0, 'mozart': 0, 'schubert': 0, 'bach': 0}\n",
      "top2_list2= [('bach', 0.6), ('beethoven', 0.4), ('mozart', 0), ('schubert', 0)]\n",
      "scores_normalised= {'bach': 0.6, 'beethoven': 0.4, 'mozart': 0, 'schubert': 0}\n",
      "scores_normalised.items()= dict_items([('bach', 0.6), ('beethoven', 0.4), ('mozart', 0), ('schubert', 0)])\n",
      "bach Bwv0529 Sonate en trio n5_39-100sec\n",
      "bach -> 0.6\n",
      "beethoven -> 0.4\n",
      "mozart -> 0\n",
      "schubert -> 0\n",
      "CORRECT\n",
      "\n",
      "scores= {2: 18, 1: 1, 4: 1}\n",
      "names= {1: 'beethoven', 2: 'mozart', 3: 'schubert', 4: 'bach'}\n",
      "scores_with_names {'mozart': 18, 'beethoven': 1, 'bach': 1}\n",
      "scores_normalised1= {'beethoven': 0, 'mozart': 0, 'schubert': 0, 'bach': 0}\n",
      "top2_list2= [('mozart', 0.9), ('beethoven', 0.1), ('schubert', 0), ('bach', 0)]\n",
      "scores_normalised= {'mozart': 0.9, 'beethoven': 0.1, 'schubert': 0, 'bach': 0}\n",
      "scores_normalised.items()= dict_items([('mozart', 0.9), ('beethoven', 0.1), ('schubert', 0), ('bach', 0)])\n",
      "beethoven Bagatella op33 n1_39-100sec\n",
      "mozart -> 0.9\n",
      "beethoven -> 0.1\n",
      "schubert -> 0\n",
      "bach -> 0\n",
      "WRONG\n",
      "\n",
      "scores= {1: 20, 2: 3}\n",
      "names= {1: 'beethoven', 2: 'mozart', 3: 'schubert', 4: 'bach'}\n",
      "scores_with_names {'beethoven': 20, 'mozart': 3}\n",
      "scores_normalised1= {'beethoven': 0, 'mozart': 0, 'schubert': 0, 'bach': 0}\n",
      "top2_list2= [('beethoven', 0.9), ('mozart', 0.1), ('schubert', 0), ('bach', 0)]\n",
      "scores_normalised= {'beethoven': 0.9, 'mozart': 0.1, 'schubert': 0, 'bach': 0}\n",
      "scores_normalised.items()= dict_items([('beethoven', 0.9), ('mozart', 0.1), ('schubert', 0), ('bach', 0)])\n",
      "beethoven Bagatella op33 n2_39-100sec\n",
      "beethoven -> 0.9\n",
      "mozart -> 0.1\n",
      "schubert -> 0\n",
      "bach -> 0\n",
      "CORRECT\n",
      "\n",
      "scores= {4: 12, 1: 6}\n",
      "names= {1: 'beethoven', 2: 'mozart', 3: 'schubert', 4: 'bach'}\n",
      "scores_with_names {'bach': 12, 'beethoven': 6}\n",
      "scores_normalised1= {'beethoven': 0, 'mozart': 0, 'schubert': 0, 'bach': 0}\n",
      "top2_list2= [('bach', 0.7), ('beethoven', 0.3), ('mozart', 0), ('schubert', 0)]\n",
      "scores_normalised= {'bach': 0.7, 'beethoven': 0.3, 'mozart': 0, 'schubert': 0}\n",
      "scores_normalised.items()= dict_items([('bach', 0.7), ('beethoven', 0.3), ('mozart', 0), ('schubert', 0)])\n",
      "beethoven Bagatella op33 n3_39-100sec\n",
      "bach -> 0.7\n",
      "beethoven -> 0.3\n",
      "mozart -> 0\n",
      "schubert -> 0\n",
      "WRONG\n",
      "\n",
      "scores= {2: 17, 1: 3, 4: 6}\n",
      "names= {1: 'beethoven', 2: 'mozart', 3: 'schubert', 4: 'bach'}\n",
      "scores_with_names {'mozart': 17, 'beethoven': 3, 'bach': 6}\n",
      "scores_normalised1= {'beethoven': 0, 'mozart': 0, 'schubert': 0, 'bach': 0}\n",
      "top2_list2= [('mozart', 0.7), ('bach', 0.3), ('beethoven', 0), ('schubert', 0)]\n",
      "scores_normalised= {'mozart': 0.7, 'bach': 0.3, 'beethoven': 0, 'schubert': 0}\n",
      "scores_normalised.items()= dict_items([('mozart', 0.7), ('bach', 0.3), ('beethoven', 0), ('schubert', 0)])\n",
      "beethoven Bagatella op33 n4_39-100sec\n",
      "mozart -> 0.7\n",
      "bach -> 0.3\n",
      "beethoven -> 0\n",
      "schubert -> 0\n",
      "WRONG\n",
      "\n",
      "scores= {1: 21, 2: 4, 4: 6, 3: 1}\n",
      "names= {1: 'beethoven', 2: 'mozart', 3: 'schubert', 4: 'bach'}\n",
      "scores_with_names {'beethoven': 21, 'mozart': 4, 'bach': 6, 'schubert': 1}\n",
      "scores_normalised1= {'beethoven': 0, 'mozart': 0, 'schubert': 0, 'bach': 0}\n",
      "top2_list2= [('beethoven', 0.8), ('bach', 0.2), ('mozart', 0), ('schubert', 0)]\n",
      "scores_normalised= {'beethoven': 0.8, 'bach': 0.2, 'mozart': 0, 'schubert': 0}\n",
      "scores_normalised.items()= dict_items([('beethoven', 0.8), ('bach', 0.2), ('mozart', 0), ('schubert', 0)])\n",
      "beethoven Bagatella op33 n5_39-100sec\n",
      "beethoven -> 0.8\n",
      "bach -> 0.2\n",
      "mozart -> 0\n",
      "schubert -> 0\n",
      "CORRECT\n",
      "\n",
      "scores= {2: 11, 3: 2, 4: 2}\n",
      "names= {1: 'beethoven', 2: 'mozart', 3: 'schubert', 4: 'bach'}\n",
      "scores_with_names {'mozart': 11, 'schubert': 2, 'bach': 2}\n",
      "scores_normalised1= {'beethoven': 0, 'mozart': 0, 'schubert': 0, 'bach': 0}\n",
      "top2_list2= [('mozart', 0.8), ('schubert', 0.2), ('beethoven', 0), ('bach', 0)]\n",
      "scores_normalised= {'mozart': 0.8, 'schubert': 0.2, 'beethoven': 0, 'bach': 0}\n",
      "scores_normalised.items()= dict_items([('mozart', 0.8), ('schubert', 0.2), ('beethoven', 0), ('bach', 0)])\n",
      "mozart Another piece for Piano,K.176_38-98sec\n",
      "mozart -> 0.8\n",
      "schubert -> 0.2\n",
      "beethoven -> 0\n",
      "bach -> 0\n",
      "CORRECT\n",
      "\n",
      "scores= {2: 10, 3: 2}\n",
      "names= {1: 'beethoven', 2: 'mozart', 3: 'schubert', 4: 'bach'}\n",
      "scores_with_names {'mozart': 10, 'schubert': 2}\n",
      "scores_normalised1= {'beethoven': 0, 'mozart': 0, 'schubert': 0, 'bach': 0}\n",
      "top2_list2= [('mozart', 0.8), ('schubert', 0.2), ('beethoven', 0), ('bach', 0)]\n",
      "scores_normalised= {'mozart': 0.8, 'schubert': 0.2, 'beethoven': 0, 'bach': 0}\n",
      "scores_normalised.items()= dict_items([('mozart', 0.8), ('schubert', 0.2), ('beethoven', 0), ('bach', 0)])\n",
      "mozart K354 Piano Variations ''Je Suis Lindor''_38-98sec\n",
      "mozart -> 0.8\n",
      "schubert -> 0.2\n",
      "beethoven -> 0\n",
      "bach -> 0\n",
      "CORRECT\n",
      "\n",
      "scores= {2: 11, 4: 6, 3: 1}\n",
      "names= {1: 'beethoven', 2: 'mozart', 3: 'schubert', 4: 'bach'}\n",
      "scores_with_names {'mozart': 11, 'bach': 6, 'schubert': 1}\n",
      "scores_normalised1= {'beethoven': 0, 'mozart': 0, 'schubert': 0, 'bach': 0}\n",
      "top2_list2= [('mozart', 0.6), ('bach', 0.4), ('beethoven', 0), ('schubert', 0)]\n",
      "scores_normalised= {'mozart': 0.6, 'bach': 0.4, 'beethoven': 0, 'schubert': 0}\n",
      "scores_normalised.items()= dict_items([('mozart', 0.6), ('bach', 0.4), ('beethoven', 0), ('schubert', 0)])\n",
      "mozart K398 Piano Variations ''Salve Tu Domine''_38-98sec\n",
      "mozart -> 0.6\n",
      "bach -> 0.4\n",
      "beethoven -> 0\n",
      "schubert -> 0\n",
      "CORRECT\n",
      "\n",
      "scores= {1: 9, 4: 4}\n",
      "names= {1: 'beethoven', 2: 'mozart', 3: 'schubert', 4: 'bach'}\n",
      "scores_with_names {'beethoven': 9, 'bach': 4}\n",
      "scores_normalised1= {'beethoven': 0, 'mozart': 0, 'schubert': 0, 'bach': 0}\n",
      "top2_list2= [('beethoven', 0.7), ('bach', 0.3), ('mozart', 0), ('schubert', 0)]\n",
      "scores_normalised= {'beethoven': 0.7, 'bach': 0.3, 'mozart': 0, 'schubert': 0}\n",
      "scores_normalised.items()= dict_items([('beethoven', 0.7), ('bach', 0.3), ('mozart', 0), ('schubert', 0)])\n",
      "mozart K401 Fuga in G minor _38-98sec\n",
      "beethoven -> 0.7\n",
      "bach -> 0.3\n",
      "mozart -> 0\n",
      "schubert -> 0\n",
      "WRONG\n",
      "\n",
      "scores= {2: 19, 3: 1, 4: 1}\n",
      "names= {1: 'beethoven', 2: 'mozart', 3: 'schubert', 4: 'bach'}\n",
      "scores_with_names {'mozart': 19, 'schubert': 1, 'bach': 1}\n",
      "scores_normalised1= {'beethoven': 0, 'mozart': 0, 'schubert': 0, 'bach': 0}\n",
      "top2_list2= [('mozart', 0.9), ('schubert', 0.1), ('beethoven', 0), ('bach', 0)]\n",
      "scores_normalised= {'mozart': 0.9, 'schubert': 0.1, 'beethoven': 0, 'bach': 0}\n",
      "scores_normalised.items()= dict_items([('mozart', 0.9), ('schubert', 0.1), ('beethoven', 0), ('bach', 0)])\n",
      "mozart K573 9 Variations for Piano Uber Duport_38-98sec\n",
      "mozart -> 0.9\n",
      "schubert -> 0.1\n",
      "beethoven -> 0\n",
      "bach -> 0\n",
      "CORRECT\n",
      "\n",
      "scores= {4: 3, 2: 4, 1: 6, 3: 1}\n",
      "names= {1: 'beethoven', 2: 'mozart', 3: 'schubert', 4: 'bach'}\n",
      "scores_with_names {'bach': 3, 'mozart': 4, 'beethoven': 6, 'schubert': 1}\n",
      "scores_normalised1= {'beethoven': 0, 'mozart': 0, 'schubert': 0, 'bach': 0}\n",
      "top2_list2= [('beethoven', 0.6), ('mozart', 0.4), ('schubert', 0), ('bach', 0)]\n",
      "scores_normalised= {'beethoven': 0.6, 'mozart': 0.4, 'schubert': 0, 'bach': 0}\n",
      "scores_normalised.items()= dict_items([('beethoven', 0.6), ('mozart', 0.4), ('schubert', 0), ('bach', 0)])\n",
      "schubert Moments musicaux op94 D780 n1_38-98sec\n",
      "beethoven -> 0.6\n",
      "mozart -> 0.4\n",
      "schubert -> 0\n",
      "bach -> 0\n",
      "WRONG\n",
      "\n"
     ]
    },
    {
     "name": "stdout",
     "output_type": "stream",
     "text": [
      "scores= {3: 5, 1: 2, 2: 1}\n",
      "names= {1: 'beethoven', 2: 'mozart', 3: 'schubert', 4: 'bach'}\n",
      "scores_with_names {'schubert': 5, 'beethoven': 2, 'mozart': 1}\n",
      "scores_normalised1= {'beethoven': 0, 'mozart': 0, 'schubert': 0, 'bach': 0}\n",
      "top2_list2= [('schubert', 0.7), ('beethoven', 0.3), ('mozart', 0), ('bach', 0)]\n",
      "scores_normalised= {'schubert': 0.7, 'beethoven': 0.3, 'mozart': 0, 'bach': 0}\n",
      "scores_normalised.items()= dict_items([('schubert', 0.7), ('beethoven', 0.3), ('mozart', 0), ('bach', 0)])\n",
      "schubert Moments musicaux op94 D780 n2_38-98sec\n",
      "schubert -> 0.7\n",
      "beethoven -> 0.3\n",
      "mozart -> 0\n",
      "bach -> 0\n",
      "CORRECT\n",
      "\n",
      "scores= {3: 7, 1: 2, 2: 5}\n",
      "names= {1: 'beethoven', 2: 'mozart', 3: 'schubert', 4: 'bach'}\n",
      "scores_with_names {'schubert': 7, 'beethoven': 2, 'mozart': 5}\n",
      "scores_normalised1= {'beethoven': 0, 'mozart': 0, 'schubert': 0, 'bach': 0}\n",
      "top2_list2= [('schubert', 0.6), ('mozart', 0.4), ('beethoven', 0), ('bach', 0)]\n",
      "scores_normalised= {'schubert': 0.6, 'mozart': 0.4, 'beethoven': 0, 'bach': 0}\n",
      "scores_normalised.items()= dict_items([('schubert', 0.6), ('mozart', 0.4), ('beethoven', 0), ('bach', 0)])\n",
      "schubert Moments musicaux op94 D780 n2_39-146sec\n",
      "schubert -> 0.6\n",
      "mozart -> 0.4\n",
      "beethoven -> 0\n",
      "bach -> 0\n",
      "CORRECT\n",
      "\n",
      "scores= {3: 1, 1: 2, 2: 6, 4: 4}\n",
      "names= {1: 'beethoven', 2: 'mozart', 3: 'schubert', 4: 'bach'}\n",
      "scores_with_names {'schubert': 1, 'beethoven': 2, 'mozart': 6, 'bach': 4}\n",
      "scores_normalised1= {'beethoven': 0, 'mozart': 0, 'schubert': 0, 'bach': 0}\n",
      "top2_list2= [('mozart', 0.6), ('bach', 0.4), ('beethoven', 0), ('schubert', 0)]\n",
      "scores_normalised= {'mozart': 0.6, 'bach': 0.4, 'beethoven': 0, 'schubert': 0}\n",
      "scores_normalised.items()= dict_items([('mozart', 0.6), ('bach', 0.4), ('beethoven', 0), ('schubert', 0)])\n",
      "schubert Moments musicaux op94 D780 n3_38-98sec\n",
      "mozart -> 0.6\n",
      "bach -> 0.4\n",
      "beethoven -> 0\n",
      "schubert -> 0\n",
      "WRONG\n",
      "\n",
      "scores= {3: 4, 2: 7, 4: 4}\n",
      "names= {1: 'beethoven', 2: 'mozart', 3: 'schubert', 4: 'bach'}\n",
      "scores_with_names {'schubert': 4, 'mozart': 7, 'bach': 4}\n",
      "scores_normalised1= {'beethoven': 0, 'mozart': 0, 'schubert': 0, 'bach': 0}\n",
      "top2_list2= [('mozart', 0.6), ('schubert', 0.4), ('beethoven', 0), ('bach', 0)]\n",
      "scores_normalised= {'mozart': 0.6, 'schubert': 0.4, 'beethoven': 0, 'bach': 0}\n",
      "scores_normalised.items()= dict_items([('mozart', 0.6), ('schubert', 0.4), ('beethoven', 0), ('bach', 0)])\n",
      "schubert Moments musicaux op94 D780 n4_38-98sec\n",
      "mozart -> 0.6\n",
      "schubert -> 0.4\n",
      "beethoven -> 0\n",
      "bach -> 0\n",
      "WRONG\n",
      "\n",
      "scores= {3: 2, 2: 3, 1: 2}\n",
      "names= {1: 'beethoven', 2: 'mozart', 3: 'schubert', 4: 'bach'}\n",
      "scores_with_names {'schubert': 2, 'mozart': 3, 'beethoven': 2}\n",
      "scores_normalised1= {'beethoven': 0, 'mozart': 0, 'schubert': 0, 'bach': 0}\n",
      "top2_list2= [('mozart', 0.6), ('beethoven', 0.4), ('schubert', 0), ('bach', 0)]\n",
      "scores_normalised= {'mozart': 0.6, 'beethoven': 0.4, 'schubert': 0, 'bach': 0}\n",
      "scores_normalised.items()= dict_items([('mozart', 0.6), ('beethoven', 0.4), ('schubert', 0), ('bach', 0)])\n",
      "schubert Moments musicaux op94 D780 n6_38-98sec\n",
      "mozart -> 0.6\n",
      "beethoven -> 0.4\n",
      "schubert -> 0\n",
      "bach -> 0\n",
      "WRONG\n",
      "\n",
      "scores= {1: 10, 2: 4, 3: 1}\n",
      "names= {1: 'beethoven', 2: 'mozart', 3: 'schubert', 4: 'bach'}\n",
      "scores_with_names {'beethoven': 10, 'mozart': 4, 'schubert': 1}\n",
      "scores_normalised1= {'beethoven': 0, 'mozart': 0, 'schubert': 0, 'bach': 0}\n",
      "top2_list2= [('beethoven', 0.7), ('mozart', 0.3), ('schubert', 0), ('bach', 0)]\n",
      "scores_normalised= {'beethoven': 0.7, 'mozart': 0.3, 'schubert': 0, 'bach': 0}\n",
      "scores_normalised.items()= dict_items([('beethoven', 0.7), ('mozart', 0.3), ('schubert', 0), ('bach', 0)])\n",
      "schubert Octet in Fmaj 3mov_38-98sec\n",
      "beethoven -> 0.7\n",
      "mozart -> 0.3\n",
      "schubert -> 0\n",
      "bach -> 0\n",
      "WRONG\n",
      "\n",
      "TOTAL: correct 13 / 22\n"
     ]
    }
   ],
   "source": [
    "#NORMALISED OUTPUT + CSV writer\n",
    "# folder = 'literature/predict_texts_60'\n",
    "# folder = 'music/predict_texts_60'\n",
    "# folder = 'both_modalities/predict_texts_60'\n",
    "# folder = 'both_modalities/predict_both'\n",
    "folder = 'text_cuts_predict2'\n",
    "count_correct = 0\n",
    "count_all = 0\n",
    "csv_lines=[] #initialise the list of dicts to output into CSV file\n",
    "for name, filename, content in walk_dir(folder):\n",
    "    sentences = get_attention_words(content, max_length)\n",
    "    tokenized_sequences = tokenizer.texts_to_sequences(sentences)\n",
    "    padded = pad_sequences(tokenized_sequences, maxlen=max_length, padding=padding_type, truncating=trunc_type)\n",
    "    predictions = model.predict(padded)\n",
    "    scores = get_scores(predictions)\n",
    "    \n",
    "    print('scores=',scores)\n",
    "    scores_sum = sum(scores.values()) #sum all votes\n",
    "#     print('scores sum=',scores_sum)\n",
    "    names = {idx: name for name, idx in label_index.items()}\n",
    "    print('names=',names)\n",
    "    scores_with_names = {names[key]:val for key,val in scores.items()}\n",
    "    print('scores_with_names', scores_with_names)\n",
    "    \n",
    "    empty_dict = {names[key]:0 for key,val in names.items()} \n",
    "    scores_normalised = empty_dict #initialise the scores dict\n",
    "    print('scores_normalised1=', scores_normalised)\n",
    "    for key, val in scores_with_names.items(): #fill the scores dict\n",
    "        scores_normalised[key] = np.around(val / scores_sum, decimals=2)\n",
    "    scores_normalised = get2top_preds(scores_normalised) #TOP2!!look at 2 top picks only   \n",
    "    \n",
    "    \n",
    "#     print('scores_normalised1=', scores_normalised)\n",
    "#     scores_normalised = {names[idx]: np.around(score / scores_sum, decimals=2)  for idx, score in scores.items()} #noramlise and round scores\n",
    "    print('scores_normalised=', scores_normalised)\n",
    "    print('scores_normalised.items()=', scores_normalised.items())\n",
    "    sorted_norm = sorted(scores_normalised.items(), key=lambda x: -x[1])\n",
    "#     print('sorted_norm=', sorted_norm)\n",
    "\n",
    "    print(name, filename[:-4])\n",
    "    for label, score in sorted_norm:\n",
    "        print(f'{label} -> {score}')\n",
    "    winner_name = sorted_norm[0][0]\n",
    "    count_all += 1\n",
    "    count_correct += name == winner_name\n",
    "    \n",
    "    csv_dict = {'author':name, 'file':filename[:-4]} #CSV dict begins with author and text cols\n",
    "    csv_dict1 = scores_normalised #CSV dict continues with scores columns\n",
    "    csv_dict.update(csv_dict1)\n",
    "    csv_dict['correct']= name == winner_name #CSV dict finishes with True/False column\n",
    "    csv_lines.append(csv_dict)\n",
    "    print('CORRECT' if name == winner_name else 'WRONG')\n",
    "    print()\n",
    "print(f'TOTAL: correct {count_correct} / {count_all}')\n",
    "\n"
   ]
  },
  {
   "cell_type": "code",
   "execution_count": 43,
   "metadata": {},
   "outputs": [],
   "source": [
    "\"\"\" WRITE CSV !!!!!!!!!!!!!!!! \"\"\"#####\n",
    "#######################################\n",
    "write_csv_from_dicts('BC_ANN.csv', csv_lines)"
   ]
  },
  {
   "cell_type": "code",
   "execution_count": null,
   "metadata": {},
   "outputs": [],
   "source": []
  },
  {
   "cell_type": "code",
   "execution_count": 0,
   "metadata": {
    "colab": {},
    "colab_type": "code",
    "id": "fczCunuaRh00"
   },
   "outputs": [],
   "source": []
  }
 ],
 "metadata": {
  "accelerator": "GPU",
  "colab": {
   "collapsed_sections": [],
   "name": "chrest_like_TF2.ipynb",
   "provenance": []
  },
  "kernelspec": {
   "display_name": "Python 3",
   "language": "python",
   "name": "python3"
  },
  "language_info": {
   "codemirror_mode": {
    "name": "ipython",
    "version": 3
   },
   "file_extension": ".py",
   "mimetype": "text/x-python",
   "name": "python",
   "nbconvert_exporter": "python",
   "pygments_lexer": "ipython3",
   "version": "3.6.6"
  }
 },
 "nbformat": 4,
 "nbformat_minor": 1
}
